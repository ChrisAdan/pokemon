{
 "cells": [
  {
   "cell_type": "code",
   "execution_count": 1,
   "id": "c5d46fc3-00fe-49a6-8b3f-161b70a12d3b",
   "metadata": {},
   "outputs": [],
   "source": [
    "import requests\n",
    "import snowflake.connector\n",
    "import json\n",
    "import pandas as pd"
   ]
  },
  {
   "cell_type": "code",
   "execution_count": 6,
   "id": "4d079417-6328-452b-a3ae-cd94647e64e8",
   "metadata": {},
   "outputs": [],
   "source": [
    "url = 'https://graphqlpokemon.favware.tech/v8'\n",
    "\n",
    "headers = {\n",
    "    'Content-Type':'application/json',\n",
    "}"
   ]
  },
  {
   "cell_type": "code",
   "execution_count": 13,
   "id": "7f331423-33e6-4c59-8c8a-b6f29e0e85e5",
   "metadata": {
    "scrolled": true
   },
   "outputs": [],
   "source": [
    "with open('../queries/extract_pokemon.gql', 'r') as file:\n",
    "    query = ''.join(line for line in file if not line.strip().startswith('#'))\n",
    "\n",
    "variables= {\n",
    "  \"pokemon\": \"dragonite\"\n",
    "}\n",
    "\n",
    "response = requests.post(url, json={'query':query, 'variables':variables}, headers=headers)\n",
    "data = response.json()"
   ]
  },
  {
   "cell_type": "code",
   "execution_count": 15,
   "id": "4747dd5a-fb3b-4a5b-b97d-ee537faeedbe",
   "metadata": {},
   "outputs": [
    {
     "data": {
      "text/plain": [
       "{'getPokemon': {'key': 'dragonite',\n",
       "  'baseStats': {'attack': 134,\n",
       "   'defense': 95,\n",
       "   'hp': 91,\n",
       "   'specialattack': 100,\n",
       "   'specialdefense': 100,\n",
       "   'speed': 80},\n",
       "  'baseStatsTotal': 600,\n",
       "  'classification': 'Dragon Pokémon',\n",
       "  'eggGroups': ['Water 1', 'Dragon'],\n",
       "  'evolutionLevel': '55',\n",
       "  'evolutions': None,\n",
       "  'evYields': {'attack': 3,\n",
       "   'defense': 0,\n",
       "   'hp': 0,\n",
       "   'specialattack': 0,\n",
       "   'specialdefense': 0,\n",
       "   'speed': 0},\n",
       "  'gender': {'female': '50%', 'male': '50%'},\n",
       "  'height': 2.2,\n",
       "  'isEggObtainable': True,\n",
       "  'levellingRate': 'Slow',\n",
       "  'maximumHatchTime': 10536,\n",
       "  'minimumHatchTime': 10280,\n",
       "  'num': 149,\n",
       "  'preevolutions': [{'key': 'dragonair',\n",
       "    'baseStatsTotal': 420,\n",
       "    'classification': 'Dragon Pokémon',\n",
       "    'eggGroups': ['Water 1', 'Dragon'],\n",
       "    'evolutionLevel': '30',\n",
       "    'height': 4,\n",
       "    'isEggObtainable': True,\n",
       "    'levellingRate': 'Slow',\n",
       "    'maximumHatchTime': 10536,\n",
       "    'minimumHatchTime': 10280,\n",
       "    'num': 148,\n",
       "    'smogonTier': 'NFE',\n",
       "    'species': 'dragonair',\n",
       "    'weight': 16.5,\n",
       "    'mythical': False,\n",
       "    'legendary': False}],\n",
       "  'smogonTier': 'OU',\n",
       "  'species': 'dragonite',\n",
       "  'types': [{'name': 'Dragon'}, {'name': 'Flying'}],\n",
       "  'weight': 210,\n",
       "  'mythical': False,\n",
       "  'legendary': False}}"
      ]
     },
     "execution_count": 15,
     "metadata": {},
     "output_type": "execute_result"
    }
   ],
   "source": [
    "data['data']"
   ]
  }
 ],
 "metadata": {
  "kernelspec": {
   "display_name": "Python 3 (ipykernel)",
   "language": "python",
   "name": "python3"
  },
  "language_info": {
   "codemirror_mode": {
    "name": "ipython",
    "version": 3
   },
   "file_extension": ".py",
   "mimetype": "text/x-python",
   "name": "python",
   "nbconvert_exporter": "python",
   "pygments_lexer": "ipython3",
   "version": "3.12.3"
  }
 },
 "nbformat": 4,
 "nbformat_minor": 5
}
