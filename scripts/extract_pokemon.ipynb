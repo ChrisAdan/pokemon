{
 "cells": [
  {
   "cell_type": "code",
   "execution_count": 1,
   "id": "c5d46fc3-00fe-49a6-8b3f-161b70a12d3b",
   "metadata": {},
   "outputs": [],
   "source": [
    "import requests\n",
    "import snowflake.connector\n",
    "import json\n",
    "import pandas as pd"
   ]
  },
  {
   "cell_type": "code",
   "execution_count": 6,
   "id": "4d079417-6328-452b-a3ae-cd94647e64e8",
   "metadata": {},
   "outputs": [],
   "source": [
    "url = 'https://graphqlpokemon.favware.tech/v8'\n",
    "\n",
    "headers = {\n",
    "    'Content-Type':'application/json',\n",
    "}"
   ]
  },
  {
   "cell_type": "code",
   "execution_count": 23,
   "id": "7f331423-33e6-4c59-8c8a-b6f29e0e85e5",
   "metadata": {},
   "outputs": [],
   "source": [
    "with open(f'../queries/extract_{entity}.gql', 'r') as file:\n",
    "    query = ''.join(line for line in file if not line.strip().startswith('#'))\n",
    "\n",
    "variables= {\n",
    "    'pokemon': 'dragonite',\n",
    "}\n",
    "\n",
    "response = requests.post(url, json={'query':query, 'variables':variables}, headers=headers)\n",
    "data = response.json()"
   ]
  },
  {
   "cell_type": "code",
   "execution_count": 25,
   "id": "4747dd5a-fb3b-4a5b-b97d-ee537faeedbe",
   "metadata": {},
   "outputs": [
    {
     "ename": "KeyError",
     "evalue": "'data'",
     "output_type": "error",
     "traceback": [
      "\u001b[31m---------------------------------------------------------------------------\u001b[39m",
      "\u001b[31mKeyError\u001b[39m                                  Traceback (most recent call last)",
      "\u001b[36mCell\u001b[39m\u001b[36m \u001b[39m\u001b[32mIn[25]\u001b[39m\u001b[32m, line 1\u001b[39m\n\u001b[32m----> \u001b[39m\u001b[32m1\u001b[39m \u001b[43mdata\u001b[49m\u001b[43m[\u001b[49m\u001b[33;43m'\u001b[39;49m\u001b[33;43mdata\u001b[39;49m\u001b[33;43m'\u001b[39;49m\u001b[43m]\u001b[49m\n",
      "\u001b[31mKeyError\u001b[39m: 'data'"
     ]
    }
   ],
   "source": [
    "data['data']"
   ]
  }
 ],
 "metadata": {
  "kernelspec": {
   "display_name": "Python 3 (ipykernel)",
   "language": "python",
   "name": "python3"
  },
  "language_info": {
   "codemirror_mode": {
    "name": "ipython",
    "version": 3
   },
   "file_extension": ".py",
   "mimetype": "text/x-python",
   "name": "python",
   "nbconvert_exporter": "python",
   "pygments_lexer": "ipython3",
   "version": "3.12.3"
  }
 },
 "nbformat": 4,
 "nbformat_minor": 5
}
